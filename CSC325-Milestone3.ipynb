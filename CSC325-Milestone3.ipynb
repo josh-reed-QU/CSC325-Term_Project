{
 "cells": [
  {
   "cell_type": "code",
   "execution_count": null,
   "id": "973263b8",
   "metadata": {},
   "outputs": [],
   "source": [
    "import pymysql\n",
    "import pymysql.cursors\n",
    "import pandas as pd\n",
    "import plotly.express as px\n",
    "import os\n",
    "\n",
    "# initialize connector object\n",
    "connection = pymysql.connect(host='localhost',\n",
    "                             user='root',\n",
    "                             password='',\n",
    "                             database=None,\n",
    "                             cursorclass=pymysql.cursors.DictCursor)\n",
    "\n",
    "with connection:\n",
    "    with connection.cursor() as cursor:\n",
    "        cursor.execute('USE video_game_sales_db;')\n",
    "        df = pd.read_sql('SELECT genre, COUNT(genre) as genre_count FROM game GROUP BY genre;', connection)\n",
    "        fig = px.pie(df, values = 'genre_count', names = 'genre', title = 'Game Genre Distribution')\n",
    "        fig.show()\n",
    "\n",
    "        df = pd.read_sql('SELECT platform_name, COUNT(platform_name) as platform_count FROM version GROUP BY platform_name;', connection)\n",
    "        fig = px.pie(df, values = 'platform_count', names = 'platform_name', title = 'Game Platform Distribution')\n",
    "        fig.show()\n",
    "\n",
    "        # TODO fix\n",
    "        # multiple plots\n",
    "        figure = plt.figure(figsize = (9, 3)) # creates figure size\n",
    "        plt.subplot(131)\n",
    "        df = pd.read_sql('SELECT genre, COUNT(genre) as genre_count FROM game GROUP BY genre;', connection)\n",
    "        plt.pie(df, values = 'genre_count', names = 'genre', title = 'Game Genre Distribution')\n",
    "\n",
    "        plt.subplot(132)\n",
    "        df = pd.read_sql('SELECT platform_name, COUNT(platform_name) as platform_count FROM version GROUP BY platform_name;', connection)\n",
    "        plt.pie(df, values = 'platform_count', names = 'platform_name', title = 'Game Platform Distribution')\n",
    "\n",
    "        plt.show()\n",
    "    \n",
    "    # connection is not autocommit by default\n",
    "    connection.commit()"
   ]
  }
 ],
 "metadata": {
  "kernelspec": {
   "display_name": "Python 3 (ipykernel)",
   "language": "python",
   "name": "python3"
  },
  "language_info": {
   "codemirror_mode": {
    "name": "ipython",
    "version": 3
   },
   "file_extension": ".py",
   "mimetype": "text/x-python",
   "name": "python",
   "nbconvert_exporter": "python",
   "pygments_lexer": "ipython3",
   "version": "3.9.12"
  }
 },
 "nbformat": 4,
 "nbformat_minor": 5
}
